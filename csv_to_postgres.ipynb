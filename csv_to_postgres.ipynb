{
 "cells": [
  {
   "cell_type": "code",
   "execution_count": 1,
   "metadata": {},
   "outputs": [],
   "source": [
    "import csv\n",
    "import pandas as pd"
   ]
  },
  {
   "cell_type": "code",
   "execution_count": 2,
   "metadata": {},
   "outputs": [
    {
     "data": {
      "text/html": [
       "<div>\n",
       "<style scoped>\n",
       "    .dataframe tbody tr th:only-of-type {\n",
       "        vertical-align: middle;\n",
       "    }\n",
       "\n",
       "    .dataframe tbody tr th {\n",
       "        vertical-align: top;\n",
       "    }\n",
       "\n",
       "    .dataframe thead th {\n",
       "        text-align: right;\n",
       "    }\n",
       "</style>\n",
       "<table border=\"1\" class=\"dataframe\">\n",
       "  <thead>\n",
       "    <tr style=\"text-align: right;\">\n",
       "      <th></th>\n",
       "      <th>Description</th>\n",
       "      <th>Beat</th>\n",
       "      <th>Zip Code</th>\n",
       "      <th>Area</th>\n",
       "      <th>DVFlag</th>\n",
       "      <th>Firearm Used Flag</th>\n",
       "    </tr>\n",
       "  </thead>\n",
       "  <tbody>\n",
       "    <tr>\n",
       "      <th>0</th>\n",
       "      <td>Murder</td>\n",
       "      <td>332</td>\n",
       "      <td>64128</td>\n",
       "      <td>EPD</td>\n",
       "      <td>False</td>\n",
       "      <td>True</td>\n",
       "    </tr>\n",
       "    <tr>\n",
       "      <th>1</th>\n",
       "      <td>Theft From Building</td>\n",
       "      <td>234</td>\n",
       "      <td>64114</td>\n",
       "      <td>MPD</td>\n",
       "      <td>False</td>\n",
       "      <td>False</td>\n",
       "    </tr>\n",
       "    <tr>\n",
       "      <th>2</th>\n",
       "      <td>Aggravated Assault</td>\n",
       "      <td>631</td>\n",
       "      <td>64116</td>\n",
       "      <td>SCP</td>\n",
       "      <td>False</td>\n",
       "      <td>True</td>\n",
       "    </tr>\n",
       "    <tr>\n",
       "      <th>3</th>\n",
       "      <td>NaN</td>\n",
       "      <td>113</td>\n",
       "      <td>64105</td>\n",
       "      <td>CPD</td>\n",
       "      <td>False</td>\n",
       "      <td>False</td>\n",
       "    </tr>\n",
       "    <tr>\n",
       "      <th>4</th>\n",
       "      <td>Motor Vehicle Theft</td>\n",
       "      <td>211</td>\n",
       "      <td>64130</td>\n",
       "      <td>MPD</td>\n",
       "      <td>False</td>\n",
       "      <td>False</td>\n",
       "    </tr>\n",
       "  </tbody>\n",
       "</table>\n",
       "</div>"
      ],
      "text/plain": [
       "           Description Beat Zip Code Area  DVFlag  Firearm Used Flag\n",
       "0               Murder  332    64128  EPD   False               True\n",
       "1  Theft From Building  234    64114  MPD   False              False\n",
       "2   Aggravated Assault  631    64116  SCP   False               True\n",
       "3                  NaN  113    64105  CPD   False              False\n",
       "4  Motor Vehicle Theft  211    64130  MPD   False              False"
      ]
     },
     "execution_count": 2,
     "metadata": {},
     "output_type": "execute_result"
    }
   ],
   "source": [
    "# Import CSV into DataFrame\n",
    "path = 'KCPD_Crime_Data_2021.csv'\n",
    "dtypes = {\n",
    "    'Beat': 'int',\n",
    "    'Zip Code': 'int',\n",
    "    'Area': 'string',\n",
    "    'DVFlag': 'bool',\n",
    "    'Firearm Used Flag': 'bool',\n",
    "    'Description': 'string'\n",
    "}\n",
    "\n",
    "# Read the CSV file and select only the desired columns\n",
    "columns_to_keep = ['Beat', 'Zip Code', 'Area', 'DVFlag', 'Firearm Used Flag', 'Description']\n",
    "raw_df = pd.read_csv(path)\n",
    "raw_df.head()"
   ]
  },
  {
   "cell_type": "code",
   "execution_count": 4,
   "metadata": {},
   "outputs": [
    {
     "ename": "DuplicateDatabase",
     "evalue": "database \"crime_data_db\" already exists\n",
     "output_type": "error",
     "traceback": [
      "\u001b[1;31m---------------------------------------------------------------------------\u001b[0m",
      "\u001b[1;31mDuplicateDatabase\u001b[0m                         Traceback (most recent call last)",
      "Cell \u001b[1;32mIn[4], line 21\u001b[0m\n\u001b[0;32m     19\u001b[0m cursor \u001b[38;5;241m=\u001b[39m conn\u001b[38;5;241m.\u001b[39mcursor()\n\u001b[0;32m     20\u001b[0m \u001b[38;5;66;03m#create database to house table\u001b[39;00m\n\u001b[1;32m---> 21\u001b[0m \u001b[43mcursor\u001b[49m\u001b[38;5;241;43m.\u001b[39;49m\u001b[43mexecute\u001b[49m\u001b[43m(\u001b[49m\u001b[38;5;124;43mf\u001b[39;49m\u001b[38;5;124;43m\"\u001b[39;49m\u001b[38;5;124;43mCREATE DATABASE \u001b[39;49m\u001b[38;5;132;43;01m{\u001b[39;49;00m\u001b[43mdb_\u001b[49m\u001b[38;5;132;43;01m}\u001b[39;49;00m\u001b[38;5;124;43m\"\u001b[39;49m\u001b[43m)\u001b[49m\n\u001b[0;32m     22\u001b[0m cursor\u001b[38;5;241m.\u001b[39mclose()\n\u001b[0;32m     23\u001b[0m conn\u001b[38;5;241m.\u001b[39mclose()\n",
      "\u001b[1;31mDuplicateDatabase\u001b[0m: database \"crime_data_db\" already exists\n"
     ]
    }
   ],
   "source": [
    "#create database for table import \n",
    "import psycopg2\n",
    "import json\n",
    "#change database creds to postgres db\n",
    "with open('create_database_creds.json') as O:\n",
    "    config = json.load(O)\n",
    "username = config['user']\n",
    "password = config['password']\n",
    "db_host = config['host']\n",
    "db_port = config['port']\n",
    "db_ = 'crime_data_db'\n",
    "conn = psycopg2.connect(\n",
    "    host=db_host,\n",
    "    port=db_port,\n",
    "    user=username,\n",
    "    password=password,\n",
    ")\n",
    "conn.autocommit = True\n",
    "cursor = conn.cursor()\n",
    "#create database to house table\n",
    "cursor.execute(f\"CREATE DATABASE {db_}\")\n",
    "cursor.close()\n",
    "conn.close()"
   ]
  },
  {
   "cell_type": "code",
   "execution_count": 5,
   "metadata": {},
   "outputs": [
    {
     "data": {
      "text/plain": [
       "127"
      ]
     },
     "execution_count": 5,
     "metadata": {},
     "output_type": "execute_result"
    }
   ],
   "source": [
    "\n",
    "from sqlalchemy import create_engine\n",
    "#upload dataframe into postgres\n",
    "# Replace these values with your PostgreSQL database credentials\n",
    "db_username = config['user']\n",
    "db_password = config['password']\n",
    "db_host = config['host']\n",
    "db_port = config['port']\n",
    "db_name = 'crime_data_db'\n",
    "\n",
    "#open engine\n",
    "connection_path = f\"postgresql://{db_username}:{db_password}@{db_host}:{db_port}/{db_name}\"\n",
    "engine = create_engine(connection_path)\n",
    "\n",
    "table_name = 'crime_data'\n",
    "#import data into db\n",
    "raw_df.to_sql(table_name, engine, if_exists='replace', index=False)\n"
   ]
  },
  {
   "cell_type": "code",
   "execution_count": null,
   "metadata": {},
   "outputs": [],
   "source": []
  }
 ],
 "metadata": {
  "kernelspec": {
   "display_name": "Python 3 (ipykernel)",
   "language": "python",
   "name": "python3"
  },
  "language_info": {
   "codemirror_mode": {
    "name": "ipython",
    "version": 3
   },
   "file_extension": ".py",
   "mimetype": "text/x-python",
   "name": "python",
   "nbconvert_exporter": "python",
   "pygments_lexer": "ipython3",
   "version": "3.10.10"
  }
 },
 "nbformat": 4,
 "nbformat_minor": 2
}
